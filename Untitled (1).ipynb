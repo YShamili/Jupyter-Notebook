{
 "cells": [
  {
   "cell_type": "code",
   "execution_count": 2,
   "id": "2aed0383-4de8-4191-ba55-3353ea3e56f5",
   "metadata": {},
   "outputs": [],
   "source": [
    "def create_board(board):\n",
    "    #printing the board\n",
    "    print(board[1]+'  | '+board[2]+' | '+board[3])\n",
    "    print('--- --- ---')\n",
    "    print(board[4]+'  | '+board[5]+' | '+board[6])\n",
    "    print('--- --- ---')\n",
    "    print(board[7]+'  | '+board[8]+' | '+board[9])"
   ]
  },
  {
   "cell_type": "code",
   "execution_count": 4,
   "id": "72b6a9cf-1e7f-4a10-9063-c35bc9320ab9",
   "metadata": {},
   "outputs": [],
   "source": [
    "def choose():\n",
    "    #Players will be choosing their letters X or O\n",
    "    marker = ' '\n",
    "    while marker not in ['X','O']:\n",
    "        marker = input(\"Player 1:Choose 'X' or 'O': \").upper()\n",
    "    if marker == 'X':\n",
    "        return ('X','O')\n",
    "    else:\n",
    "        return ('O','X')"
   ]
  },
  {
   "cell_type": "code",
   "execution_count": 6,
   "id": "d10022b2-0d59-4ebb-bf7d-3e5be09d96a7",
   "metadata": {},
   "outputs": [],
   "source": [
    "def place(board,marked,position):\n",
    "    #Placing the letter X or O as mentioned in the position on the board\n",
    "    board[position] = marked"
   ]
  },
  {
   "cell_type": "code",
   "execution_count": 8,
   "id": "a4ae55c4-ddf5-406f-86e8-bd78eb53e417",
   "metadata": {},
   "outputs": [],
   "source": [
    "def win(board,marked):\n",
    "    #To check the winning cases\n",
    "    combinations = [[1,2,3],[4,5,6],[7,8,9],[1,4,7],[2,5,8],[3,6,9],[1,5,9],[3,5,7]]\n",
    "    for combo in combinations:\n",
    "        if board[combo[0]] == board[combo[2]] == board[combo[1]] == marked:\n",
    "            return True\n",
    "    return False"
   ]
  },
  {
   "cell_type": "code",
   "execution_count": 10,
   "id": "f4c66de8-cbbb-4003-9b66-9692cf8d6b0f",
   "metadata": {},
   "outputs": [],
   "source": [
    "import random\n",
    "def first_chance_to(board):\n",
    "    #Using random choosing to tell who will get the chance to play first\n",
    "    if random.randint(0,1) == 0:\n",
    "        return 'Player 2'\n",
    "    else:\n",
    "        return 'Player 1'"
   ]
  },
  {
   "cell_type": "code",
   "execution_count": 12,
   "id": "058d600c-be05-4cf0-9735-0db257698cc9",
   "metadata": {},
   "outputs": [],
   "source": [
    "def space_check(board,position):\n",
    "    #Checking whether the position is empty or not\n",
    "    return board[position] == ' '"
   ]
  },
  {
   "cell_type": "code",
   "execution_count": 14,
   "id": "7fc34800-646c-4ccb-8abb-18bb73bfb7a9",
   "metadata": {},
   "outputs": [],
   "source": [
    "def full_check(board):\n",
    "    #Checking whether the board is full or not\n",
    "    for i in range(1,9):\n",
    "        if space_check(board,i):\n",
    "            return False\n",
    "    return True"
   ]
  },
  {
   "cell_type": "code",
   "execution_count": 16,
   "id": "ee8f3188-3365-493c-bc39-5f8046b3b504",
   "metadata": {},
   "outputs": [],
   "source": [
    "def choice(board):\n",
    "    #Players will be choosing their position to fill their options 'X' or 'O' in that respective position\n",
    "    position = 0\n",
    "    while position not in [1,2,3,4,5,6,7,8,9] or not space_check(board,position):\n",
    "        position = int(input(\"choose your position: \"))\n",
    "    return position\n"
   ]
  },
  {
   "cell_type": "code",
   "execution_count": 18,
   "id": "8e36f19a-5a25-4308-a921-b581b04bc163",
   "metadata": {},
   "outputs": [],
   "source": [
    "def replay():\n",
    "    #Asking the players choice whether they want to replay or not\n",
    "    choice = 'WRONG'\n",
    "    while choice not in ['yes','no']:\n",
    "        choice = input(\"Do you want to play again?\").lower()\n",
    "        if choice not in ['yes','no']:\n",
    "            print(\"Sorry,did not understand!Enter 'Yes' or 'No': \")\n",
    "    if choice == 'yes':\n",
    "        return True\n",
    "    elif choice == 'no':\n",
    "        return False"
   ]
  },
  {
   "cell_type": "code",
   "execution_count": null,
   "id": "03969992-324f-43e5-9f2a-a1bacd40a867",
   "metadata": {},
   "outputs": [],
   "source": [
    "print('Welcome to Tic Tac Toe!')\n",
    "\n",
    "while True:\n",
    "    # Reset the board\n",
    "    theBoard = [' '] * 10\n",
    "    player1_marker, player2_marker = choose()\n",
    "    turn = first_chance_to(theBoard)\n",
    "    print(turn + ' will go first.')\n",
    "    #Asking whether the players are ready to play or not\n",
    "    play_game = input('Are you ready to play? Enter Yes or No.')\n",
    "    \n",
    "    if play_game.lower()[0] == 'y':\n",
    "        game_on = True\n",
    "    else:\n",
    "        game_on = False\n",
    "\n",
    "    while game_on:\n",
    "        if turn == 'Player 1':\n",
    "            # Player1's turn.\n",
    "            \n",
    "            create_board(theBoard)\n",
    "            position = choice(theBoard)\n",
    "            place(theBoard, player1_marker, position)\n",
    "\n",
    "            if win(theBoard, player1_marker):\n",
    "                create_board(theBoard)\n",
    "                print('Congratulations! You have won the game!')\n",
    "                game_on = False\n",
    "            else:\n",
    "                if full_check(theBoard):\n",
    "                    create_board(theBoard)\n",
    "                    print('The game is a draw!')\n",
    "                    break\n",
    "                else:\n",
    "                    turn = 'Player 2'\n",
    "\n",
    "        else:\n",
    "            # Player2's turn.\n",
    "            \n",
    "            create_board(theBoard)\n",
    "            position = choice(theBoard)\n",
    "            place(theBoard, player2_marker, position)\n",
    "\n",
    "            if win(theBoard, player2_marker):\n",
    "                create_board(theBoard)\n",
    "                print('Player 2 has won!')\n",
    "                game_on = False\n",
    "            else:\n",
    "                if full_check(theBoard):\n",
    "                    create_board(theBoard)\n",
    "                    print('The game is a draw!')\n",
    "                    break\n",
    "                else:\n",
    "                    turn = 'Player 1'\n",
    "\n",
    "    if not replay():\n",
    "        break\n"
   ]
  },
  {
   "cell_type": "code",
   "execution_count": null,
   "id": "d795e6b5-e743-42ea-8ad0-1fecd5581838",
   "metadata": {},
   "outputs": [],
   "source": []
  }
 ],
 "metadata": {
  "kernelspec": {
   "display_name": "Python [conda env:base] *",
   "language": "python",
   "name": "conda-base-py"
  },
  "language_info": {
   "codemirror_mode": {
    "name": "ipython",
    "version": 3
   },
   "file_extension": ".py",
   "mimetype": "text/x-python",
   "name": "python",
   "nbconvert_exporter": "python",
   "pygments_lexer": "ipython3",
   "version": "3.12.7"
  }
 },
 "nbformat": 4,
 "nbformat_minor": 5
}
